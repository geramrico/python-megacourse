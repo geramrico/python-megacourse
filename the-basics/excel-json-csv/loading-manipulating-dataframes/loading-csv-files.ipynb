{
 "metadata": {
  "language_info": {
   "codemirror_mode": {
    "name": "ipython",
    "version": 3
   },
   "file_extension": ".py",
   "mimetype": "text/x-python",
   "name": "python",
   "nbconvert_exporter": "python",
   "pygments_lexer": "ipython3",
   "version": "3.9.0-final"
  },
  "orig_nbformat": 2,
  "kernelspec": {
   "name": "python3",
   "display_name": "Python 3"
  }
 },
 "nbformat": 4,
 "nbformat_minor": 2,
 "cells": [
  {
   "cell_type": "code",
   "execution_count": 4,
   "metadata": {},
   "outputs": [
    {
     "output_type": "execute_result",
     "data": {
      "text/plain": [
       "['loading-csv-files.ipynb',\n",
       " 'supermarkets-commas.txt',\n",
       " 'supermarkets-semi-colons.txt',\n",
       " 'supermarkets.csv',\n",
       " 'supermarkets.json',\n",
       " 'supermarkets.xlsx']"
      ]
     },
     "metadata": {},
     "execution_count": 4
    }
   ],
   "source": [
    "import os\n",
    "os.listdir()"
   ]
  },
  {
   "cell_type": "code",
   "execution_count": 7,
   "metadata": {},
   "outputs": [],
   "source": [
    "import pandas"
   ]
  },
  {
   "cell_type": "code",
   "execution_count": 9,
   "metadata": {},
   "outputs": [
    {
     "output_type": "execute_result",
     "data": {
      "text/plain": [
       "   ID          Address           City             State Country         Name  \\\n",
       "0   1     3666 21st St  San Francisco          CA 94114     USA      Madeira   \n",
       "1   2   735 Dolores St  San Francisco          CA 94119     USA  Bready Shop   \n",
       "2   3      332 Hill St  San Francisco  California 94114     USA  Super River   \n",
       "3   4     3995 23rd St  San Francisco          CA 94114     USA   Ben's Shop   \n",
       "4   5  1056 Sanchez St  San Francisco        California     USA      Sanchez   \n",
       "5   6  551 Alvarado St  San Francisco          CA 94114     USA   Richvalley   \n",
       "\n",
       "   Employees  \n",
       "0          8  \n",
       "1         15  \n",
       "2         25  \n",
       "3         10  \n",
       "4         12  \n",
       "5         20  "
      ],
      "text/html": "<div>\n<style scoped>\n    .dataframe tbody tr th:only-of-type {\n        vertical-align: middle;\n    }\n\n    .dataframe tbody tr th {\n        vertical-align: top;\n    }\n\n    .dataframe thead th {\n        text-align: right;\n    }\n</style>\n<table border=\"1\" class=\"dataframe\">\n  <thead>\n    <tr style=\"text-align: right;\">\n      <th></th>\n      <th>ID</th>\n      <th>Address</th>\n      <th>City</th>\n      <th>State</th>\n      <th>Country</th>\n      <th>Name</th>\n      <th>Employees</th>\n    </tr>\n  </thead>\n  <tbody>\n    <tr>\n      <th>0</th>\n      <td>1</td>\n      <td>3666 21st St</td>\n      <td>San Francisco</td>\n      <td>CA 94114</td>\n      <td>USA</td>\n      <td>Madeira</td>\n      <td>8</td>\n    </tr>\n    <tr>\n      <th>1</th>\n      <td>2</td>\n      <td>735 Dolores St</td>\n      <td>San Francisco</td>\n      <td>CA 94119</td>\n      <td>USA</td>\n      <td>Bready Shop</td>\n      <td>15</td>\n    </tr>\n    <tr>\n      <th>2</th>\n      <td>3</td>\n      <td>332 Hill St</td>\n      <td>San Francisco</td>\n      <td>California 94114</td>\n      <td>USA</td>\n      <td>Super River</td>\n      <td>25</td>\n    </tr>\n    <tr>\n      <th>3</th>\n      <td>4</td>\n      <td>3995 23rd St</td>\n      <td>San Francisco</td>\n      <td>CA 94114</td>\n      <td>USA</td>\n      <td>Ben's Shop</td>\n      <td>10</td>\n    </tr>\n    <tr>\n      <th>4</th>\n      <td>5</td>\n      <td>1056 Sanchez St</td>\n      <td>San Francisco</td>\n      <td>California</td>\n      <td>USA</td>\n      <td>Sanchez</td>\n      <td>12</td>\n    </tr>\n    <tr>\n      <th>5</th>\n      <td>6</td>\n      <td>551 Alvarado St</td>\n      <td>San Francisco</td>\n      <td>CA 94114</td>\n      <td>USA</td>\n      <td>Richvalley</td>\n      <td>20</td>\n    </tr>\n  </tbody>\n</table>\n</div>"
     },
     "metadata": {},
     "execution_count": 9
    }
   ],
   "source": [
    "df1 = pandas.read_json(\"supermarkets.json\")\n",
    "df1"
   ]
  },
  {
   "cell_type": "code",
   "execution_count": null,
   "metadata": {},
   "outputs": [],
   "source": [
    "df3 = pandas.read_excel(\"supermarkets.xlsx\",sheet_name=0)\n",
    "df3"
   ]
  },
  {
   "cell_type": "code",
   "execution_count": 18,
   "metadata": {},
   "outputs": [],
   "source": [
    "df4 = pandas.read_csv(\"supermarkets-commas.txt\")"
   ]
  },
  {
   "cell_type": "code",
   "execution_count": 19,
   "metadata": {},
   "outputs": [
    {
     "output_type": "execute_result",
     "data": {
      "text/plain": [
       "   ID          Address           City             State Country         Name  \\\n",
       "0   1     3666 21st St  San Francisco          CA 94114     USA      Madeira   \n",
       "1   2   735 Dolores St  San Francisco          CA 94119     USA  Bready Shop   \n",
       "2   3      332 Hill St  San Francisco  California 94114     USA  Super River   \n",
       "3   4     3995 23rd St  San Francisco          CA 94114     USA   Ben's Shop   \n",
       "4   5  1056 Sanchez St  San Francisco        California     USA      Sanchez   \n",
       "5   6  551 Alvarado St  San Francisco          CA 94114     USA   Richvalley   \n",
       "\n",
       "   Employees  \n",
       "0          8  \n",
       "1         15  \n",
       "2         25  \n",
       "3         10  \n",
       "4         12  \n",
       "5         20  "
      ],
      "text/html": "<div>\n<style scoped>\n    .dataframe tbody tr th:only-of-type {\n        vertical-align: middle;\n    }\n\n    .dataframe tbody tr th {\n        vertical-align: top;\n    }\n\n    .dataframe thead th {\n        text-align: right;\n    }\n</style>\n<table border=\"1\" class=\"dataframe\">\n  <thead>\n    <tr style=\"text-align: right;\">\n      <th></th>\n      <th>ID</th>\n      <th>Address</th>\n      <th>City</th>\n      <th>State</th>\n      <th>Country</th>\n      <th>Name</th>\n      <th>Employees</th>\n    </tr>\n  </thead>\n  <tbody>\n    <tr>\n      <th>0</th>\n      <td>1</td>\n      <td>3666 21st St</td>\n      <td>San Francisco</td>\n      <td>CA 94114</td>\n      <td>USA</td>\n      <td>Madeira</td>\n      <td>8</td>\n    </tr>\n    <tr>\n      <th>1</th>\n      <td>2</td>\n      <td>735 Dolores St</td>\n      <td>San Francisco</td>\n      <td>CA 94119</td>\n      <td>USA</td>\n      <td>Bready Shop</td>\n      <td>15</td>\n    </tr>\n    <tr>\n      <th>2</th>\n      <td>3</td>\n      <td>332 Hill St</td>\n      <td>San Francisco</td>\n      <td>California 94114</td>\n      <td>USA</td>\n      <td>Super River</td>\n      <td>25</td>\n    </tr>\n    <tr>\n      <th>3</th>\n      <td>4</td>\n      <td>3995 23rd St</td>\n      <td>San Francisco</td>\n      <td>CA 94114</td>\n      <td>USA</td>\n      <td>Ben's Shop</td>\n      <td>10</td>\n    </tr>\n    <tr>\n      <th>4</th>\n      <td>5</td>\n      <td>1056 Sanchez St</td>\n      <td>San Francisco</td>\n      <td>California</td>\n      <td>USA</td>\n      <td>Sanchez</td>\n      <td>12</td>\n    </tr>\n    <tr>\n      <th>5</th>\n      <td>6</td>\n      <td>551 Alvarado St</td>\n      <td>San Francisco</td>\n      <td>CA 94114</td>\n      <td>USA</td>\n      <td>Richvalley</td>\n      <td>20</td>\n    </tr>\n  </tbody>\n</table>\n</div>"
     },
     "metadata": {},
     "execution_count": 19
    }
   ],
   "source": [
    "df4"
   ]
  },
  {
   "cell_type": "code",
   "execution_count": 22,
   "metadata": {},
   "outputs": [],
   "source": [
    "#INDEXING AND SLICING\n",
    "#   Coordinate system\n"
   ]
  },
  {
   "cell_type": "code",
   "execution_count": 21,
   "metadata": {},
   "outputs": [
    {
     "output_type": "execute_result",
     "data": {
      "text/plain": [
       "   ID          Address           City             State Country         Name  \\\n",
       "0   1     3666 21st St  San Francisco          CA 94114     USA      Madeira   \n",
       "1   2   735 Dolores St  San Francisco          CA 94119     USA  Bready Shop   \n",
       "2   3      332 Hill St  San Francisco  California 94114     USA  Super River   \n",
       "3   4     3995 23rd St  San Francisco          CA 94114     USA   Ben's Shop   \n",
       "4   5  1056 Sanchez St  San Francisco        California     USA      Sanchez   \n",
       "5   6  551 Alvarado St  San Francisco          CA 94114     USA   Richvalley   \n",
       "\n",
       "   Employees  \n",
       "0          8  \n",
       "1         15  \n",
       "2         25  \n",
       "3         10  \n",
       "4         12  \n",
       "5         20  "
      ],
      "text/html": "<div>\n<style scoped>\n    .dataframe tbody tr th:only-of-type {\n        vertical-align: middle;\n    }\n\n    .dataframe tbody tr th {\n        vertical-align: top;\n    }\n\n    .dataframe thead th {\n        text-align: right;\n    }\n</style>\n<table border=\"1\" class=\"dataframe\">\n  <thead>\n    <tr style=\"text-align: right;\">\n      <th></th>\n      <th>ID</th>\n      <th>Address</th>\n      <th>City</th>\n      <th>State</th>\n      <th>Country</th>\n      <th>Name</th>\n      <th>Employees</th>\n    </tr>\n  </thead>\n  <tbody>\n    <tr>\n      <th>0</th>\n      <td>1</td>\n      <td>3666 21st St</td>\n      <td>San Francisco</td>\n      <td>CA 94114</td>\n      <td>USA</td>\n      <td>Madeira</td>\n      <td>8</td>\n    </tr>\n    <tr>\n      <th>1</th>\n      <td>2</td>\n      <td>735 Dolores St</td>\n      <td>San Francisco</td>\n      <td>CA 94119</td>\n      <td>USA</td>\n      <td>Bready Shop</td>\n      <td>15</td>\n    </tr>\n    <tr>\n      <th>2</th>\n      <td>3</td>\n      <td>332 Hill St</td>\n      <td>San Francisco</td>\n      <td>California 94114</td>\n      <td>USA</td>\n      <td>Super River</td>\n      <td>25</td>\n    </tr>\n    <tr>\n      <th>3</th>\n      <td>4</td>\n      <td>3995 23rd St</td>\n      <td>San Francisco</td>\n      <td>CA 94114</td>\n      <td>USA</td>\n      <td>Ben's Shop</td>\n      <td>10</td>\n    </tr>\n    <tr>\n      <th>4</th>\n      <td>5</td>\n      <td>1056 Sanchez St</td>\n      <td>San Francisco</td>\n      <td>California</td>\n      <td>USA</td>\n      <td>Sanchez</td>\n      <td>12</td>\n    </tr>\n    <tr>\n      <th>5</th>\n      <td>6</td>\n      <td>551 Alvarado St</td>\n      <td>San Francisco</td>\n      <td>CA 94114</td>\n      <td>USA</td>\n      <td>Richvalley</td>\n      <td>20</td>\n    </tr>\n  </tbody>\n</table>\n</div>"
     },
     "metadata": {},
     "execution_count": 21
    }
   ],
   "source": [
    "df5 = pandas.read_json(\"http://pythonhow.com/supermarkets.json\")\n",
    "df5"
   ]
  },
  {
   "cell_type": "code",
   "execution_count": 27,
   "metadata": {},
   "outputs": [
    {
     "output_type": "execute_result",
     "data": {
      "text/plain": [
       "          Address           City             State\n",
       "0    3666 21st St  San Francisco          CA 94114\n",
       "1  735 Dolores St  San Francisco          CA 94119\n",
       "2     332 Hill St  San Francisco  California 94114"
      ],
      "text/html": "<div>\n<style scoped>\n    .dataframe tbody tr th:only-of-type {\n        vertical-align: middle;\n    }\n\n    .dataframe tbody tr th {\n        vertical-align: top;\n    }\n\n    .dataframe thead th {\n        text-align: right;\n    }\n</style>\n<table border=\"1\" class=\"dataframe\">\n  <thead>\n    <tr style=\"text-align: right;\">\n      <th></th>\n      <th>Address</th>\n      <th>City</th>\n      <th>State</th>\n    </tr>\n  </thead>\n  <tbody>\n    <tr>\n      <th>0</th>\n      <td>3666 21st St</td>\n      <td>San Francisco</td>\n      <td>CA 94114</td>\n    </tr>\n    <tr>\n      <th>1</th>\n      <td>735 Dolores St</td>\n      <td>San Francisco</td>\n      <td>CA 94119</td>\n    </tr>\n    <tr>\n      <th>2</th>\n      <td>332 Hill St</td>\n      <td>San Francisco</td>\n      <td>California 94114</td>\n    </tr>\n  </tbody>\n</table>\n</div>"
     },
     "metadata": {},
     "execution_count": 27
    }
   ],
   "source": [
    "\n",
    "#Funciona como un sistema de coordenadas, le das la fila y columna que necesitas. \n",
    "df5.loc[0:2,\"Address\":\"State\"]"
   ]
  },
  {
   "cell_type": "code",
   "execution_count": 28,
   "metadata": {},
   "outputs": [
    {
     "output_type": "execute_result",
     "data": {
      "text/plain": [
       "['3666 21st St',\n",
       " '735 Dolores St',\n",
       " '332 Hill St',\n",
       " '3995 23rd St',\n",
       " '1056 Sanchez St',\n",
       " '551 Alvarado St']"
      ]
     },
     "metadata": {},
     "execution_count": 28
    }
   ],
   "source": [
    "#Hago una lista con una columna.\n",
    "list(df5.loc[:,\"Address\"])"
   ]
  },
  {
   "cell_type": "code",
   "execution_count": 29,
   "metadata": {},
   "outputs": [],
   "source": [
    "#Borrar columnas o filas"
   ]
  },
  {
   "cell_type": "code",
   "execution_count": 30,
   "metadata": {},
   "outputs": [
    {
     "output_type": "execute_result",
     "data": {
      "text/plain": [
       "   ID          Address           City             State Country         Name  \\\n",
       "0   1     3666 21st St  San Francisco          CA 94114     USA      Madeira   \n",
       "1   2   735 Dolores St  San Francisco          CA 94119     USA  Bready Shop   \n",
       "2   3      332 Hill St  San Francisco  California 94114     USA  Super River   \n",
       "3   4     3995 23rd St  San Francisco          CA 94114     USA   Ben's Shop   \n",
       "4   5  1056 Sanchez St  San Francisco        California     USA      Sanchez   \n",
       "5   6  551 Alvarado St  San Francisco          CA 94114     USA   Richvalley   \n",
       "\n",
       "   Employees  \n",
       "0          8  \n",
       "1         15  \n",
       "2         25  \n",
       "3         10  \n",
       "4         12  \n",
       "5         20  "
      ],
      "text/html": "<div>\n<style scoped>\n    .dataframe tbody tr th:only-of-type {\n        vertical-align: middle;\n    }\n\n    .dataframe tbody tr th {\n        vertical-align: top;\n    }\n\n    .dataframe thead th {\n        text-align: right;\n    }\n</style>\n<table border=\"1\" class=\"dataframe\">\n  <thead>\n    <tr style=\"text-align: right;\">\n      <th></th>\n      <th>ID</th>\n      <th>Address</th>\n      <th>City</th>\n      <th>State</th>\n      <th>Country</th>\n      <th>Name</th>\n      <th>Employees</th>\n    </tr>\n  </thead>\n  <tbody>\n    <tr>\n      <th>0</th>\n      <td>1</td>\n      <td>3666 21st St</td>\n      <td>San Francisco</td>\n      <td>CA 94114</td>\n      <td>USA</td>\n      <td>Madeira</td>\n      <td>8</td>\n    </tr>\n    <tr>\n      <th>1</th>\n      <td>2</td>\n      <td>735 Dolores St</td>\n      <td>San Francisco</td>\n      <td>CA 94119</td>\n      <td>USA</td>\n      <td>Bready Shop</td>\n      <td>15</td>\n    </tr>\n    <tr>\n      <th>2</th>\n      <td>3</td>\n      <td>332 Hill St</td>\n      <td>San Francisco</td>\n      <td>California 94114</td>\n      <td>USA</td>\n      <td>Super River</td>\n      <td>25</td>\n    </tr>\n    <tr>\n      <th>3</th>\n      <td>4</td>\n      <td>3995 23rd St</td>\n      <td>San Francisco</td>\n      <td>CA 94114</td>\n      <td>USA</td>\n      <td>Ben's Shop</td>\n      <td>10</td>\n    </tr>\n    <tr>\n      <th>4</th>\n      <td>5</td>\n      <td>1056 Sanchez St</td>\n      <td>San Francisco</td>\n      <td>California</td>\n      <td>USA</td>\n      <td>Sanchez</td>\n      <td>12</td>\n    </tr>\n    <tr>\n      <th>5</th>\n      <td>6</td>\n      <td>551 Alvarado St</td>\n      <td>San Francisco</td>\n      <td>CA 94114</td>\n      <td>USA</td>\n      <td>Richvalley</td>\n      <td>20</td>\n    </tr>\n  </tbody>\n</table>\n</div>"
     },
     "metadata": {},
     "execution_count": 30
    }
   ],
   "source": [
    "df5"
   ]
  },
  {
   "cell_type": "code",
   "execution_count": 31,
   "metadata": {},
   "outputs": [
    {
     "output_type": "execute_result",
     "data": {
      "text/plain": [
       "   ID          Address           City       State Country        Name  \\\n",
       "3   4     3995 23rd St  San Francisco    CA 94114     USA  Ben's Shop   \n",
       "4   5  1056 Sanchez St  San Francisco  California     USA     Sanchez   \n",
       "5   6  551 Alvarado St  San Francisco    CA 94114     USA  Richvalley   \n",
       "\n",
       "   Employees  \n",
       "3         10  \n",
       "4         12  \n",
       "5         20  "
      ],
      "text/html": "<div>\n<style scoped>\n    .dataframe tbody tr th:only-of-type {\n        vertical-align: middle;\n    }\n\n    .dataframe tbody tr th {\n        vertical-align: top;\n    }\n\n    .dataframe thead th {\n        text-align: right;\n    }\n</style>\n<table border=\"1\" class=\"dataframe\">\n  <thead>\n    <tr style=\"text-align: right;\">\n      <th></th>\n      <th>ID</th>\n      <th>Address</th>\n      <th>City</th>\n      <th>State</th>\n      <th>Country</th>\n      <th>Name</th>\n      <th>Employees</th>\n    </tr>\n  </thead>\n  <tbody>\n    <tr>\n      <th>3</th>\n      <td>4</td>\n      <td>3995 23rd St</td>\n      <td>San Francisco</td>\n      <td>CA 94114</td>\n      <td>USA</td>\n      <td>Ben's Shop</td>\n      <td>10</td>\n    </tr>\n    <tr>\n      <th>4</th>\n      <td>5</td>\n      <td>1056 Sanchez St</td>\n      <td>San Francisco</td>\n      <td>California</td>\n      <td>USA</td>\n      <td>Sanchez</td>\n      <td>12</td>\n    </tr>\n    <tr>\n      <th>5</th>\n      <td>6</td>\n      <td>551 Alvarado St</td>\n      <td>San Francisco</td>\n      <td>CA 94114</td>\n      <td>USA</td>\n      <td>Richvalley</td>\n      <td>20</td>\n    </tr>\n  </tbody>\n</table>\n</div>"
     },
     "metadata": {},
     "execution_count": 31
    }
   ],
   "source": [
    "df5.drop(df5.index[0:3],0) #Con 0 borro filas, con 1 borro columnas"
   ]
  },
  {
   "cell_type": "code",
   "execution_count": 34,
   "metadata": {},
   "outputs": [
    {
     "output_type": "execute_result",
     "data": {
      "text/plain": [
       "   ID          Address             State Country         Name  Employees\n",
       "0   1     3666 21st St          CA 94114     USA      Madeira          8\n",
       "1   2   735 Dolores St          CA 94119     USA  Bready Shop         15\n",
       "2   3      332 Hill St  California 94114     USA  Super River         25\n",
       "3   4     3995 23rd St          CA 94114     USA   Ben's Shop         10\n",
       "4   5  1056 Sanchez St        California     USA      Sanchez         12\n",
       "5   6  551 Alvarado St          CA 94114     USA   Richvalley         20"
      ],
      "text/html": "<div>\n<style scoped>\n    .dataframe tbody tr th:only-of-type {\n        vertical-align: middle;\n    }\n\n    .dataframe tbody tr th {\n        vertical-align: top;\n    }\n\n    .dataframe thead th {\n        text-align: right;\n    }\n</style>\n<table border=\"1\" class=\"dataframe\">\n  <thead>\n    <tr style=\"text-align: right;\">\n      <th></th>\n      <th>ID</th>\n      <th>Address</th>\n      <th>State</th>\n      <th>Country</th>\n      <th>Name</th>\n      <th>Employees</th>\n    </tr>\n  </thead>\n  <tbody>\n    <tr>\n      <th>0</th>\n      <td>1</td>\n      <td>3666 21st St</td>\n      <td>CA 94114</td>\n      <td>USA</td>\n      <td>Madeira</td>\n      <td>8</td>\n    </tr>\n    <tr>\n      <th>1</th>\n      <td>2</td>\n      <td>735 Dolores St</td>\n      <td>CA 94119</td>\n      <td>USA</td>\n      <td>Bready Shop</td>\n      <td>15</td>\n    </tr>\n    <tr>\n      <th>2</th>\n      <td>3</td>\n      <td>332 Hill St</td>\n      <td>California 94114</td>\n      <td>USA</td>\n      <td>Super River</td>\n      <td>25</td>\n    </tr>\n    <tr>\n      <th>3</th>\n      <td>4</td>\n      <td>3995 23rd St</td>\n      <td>CA 94114</td>\n      <td>USA</td>\n      <td>Ben's Shop</td>\n      <td>10</td>\n    </tr>\n    <tr>\n      <th>4</th>\n      <td>5</td>\n      <td>1056 Sanchez St</td>\n      <td>California</td>\n      <td>USA</td>\n      <td>Sanchez</td>\n      <td>12</td>\n    </tr>\n    <tr>\n      <th>5</th>\n      <td>6</td>\n      <td>551 Alvarado St</td>\n      <td>CA 94114</td>\n      <td>USA</td>\n      <td>Richvalley</td>\n      <td>20</td>\n    </tr>\n  </tbody>\n</table>\n</div>"
     },
     "metadata": {},
     "execution_count": 34
    }
   ],
   "source": [
    "df5.drop(\"City\",1)\n"
   ]
  },
  {
   "cell_type": "code",
   "execution_count": 35,
   "metadata": {},
   "outputs": [],
   "source": [
    "#UPDATE AND ADD NEW ROWS AND COLUMNS\n"
   ]
  },
  {
   "cell_type": "code",
   "execution_count": 36,
   "metadata": {},
   "outputs": [
    {
     "output_type": "execute_result",
     "data": {
      "text/plain": [
       "   ID          Address           City             State Country         Name  \\\n",
       "0   1     3666 21st St  San Francisco          CA 94114     USA      Madeira   \n",
       "1   2   735 Dolores St  San Francisco          CA 94119     USA  Bready Shop   \n",
       "2   3      332 Hill St  San Francisco  California 94114     USA  Super River   \n",
       "3   4     3995 23rd St  San Francisco          CA 94114     USA   Ben's Shop   \n",
       "4   5  1056 Sanchez St  San Francisco        California     USA      Sanchez   \n",
       "5   6  551 Alvarado St  San Francisco          CA 94114     USA   Richvalley   \n",
       "\n",
       "   Employees  \n",
       "0          8  \n",
       "1         15  \n",
       "2         25  \n",
       "3         10  \n",
       "4         12  \n",
       "5         20  "
      ],
      "text/html": "<div>\n<style scoped>\n    .dataframe tbody tr th:only-of-type {\n        vertical-align: middle;\n    }\n\n    .dataframe tbody tr th {\n        vertical-align: top;\n    }\n\n    .dataframe thead th {\n        text-align: right;\n    }\n</style>\n<table border=\"1\" class=\"dataframe\">\n  <thead>\n    <tr style=\"text-align: right;\">\n      <th></th>\n      <th>ID</th>\n      <th>Address</th>\n      <th>City</th>\n      <th>State</th>\n      <th>Country</th>\n      <th>Name</th>\n      <th>Employees</th>\n    </tr>\n  </thead>\n  <tbody>\n    <tr>\n      <th>0</th>\n      <td>1</td>\n      <td>3666 21st St</td>\n      <td>San Francisco</td>\n      <td>CA 94114</td>\n      <td>USA</td>\n      <td>Madeira</td>\n      <td>8</td>\n    </tr>\n    <tr>\n      <th>1</th>\n      <td>2</td>\n      <td>735 Dolores St</td>\n      <td>San Francisco</td>\n      <td>CA 94119</td>\n      <td>USA</td>\n      <td>Bready Shop</td>\n      <td>15</td>\n    </tr>\n    <tr>\n      <th>2</th>\n      <td>3</td>\n      <td>332 Hill St</td>\n      <td>San Francisco</td>\n      <td>California 94114</td>\n      <td>USA</td>\n      <td>Super River</td>\n      <td>25</td>\n    </tr>\n    <tr>\n      <th>3</th>\n      <td>4</td>\n      <td>3995 23rd St</td>\n      <td>San Francisco</td>\n      <td>CA 94114</td>\n      <td>USA</td>\n      <td>Ben's Shop</td>\n      <td>10</td>\n    </tr>\n    <tr>\n      <th>4</th>\n      <td>5</td>\n      <td>1056 Sanchez St</td>\n      <td>San Francisco</td>\n      <td>California</td>\n      <td>USA</td>\n      <td>Sanchez</td>\n      <td>12</td>\n    </tr>\n    <tr>\n      <th>5</th>\n      <td>6</td>\n      <td>551 Alvarado St</td>\n      <td>San Francisco</td>\n      <td>CA 94114</td>\n      <td>USA</td>\n      <td>Richvalley</td>\n      <td>20</td>\n    </tr>\n  </tbody>\n</table>\n</div>"
     },
     "metadata": {},
     "execution_count": 36
    }
   ],
   "source": [
    "df5"
   ]
  },
  {
   "cell_type": "code",
   "execution_count": 38,
   "metadata": {},
   "outputs": [
    {
     "output_type": "execute_result",
     "data": {
      "text/plain": [
       "(6, 7)"
      ]
     },
     "metadata": {},
     "execution_count": 38
    }
   ],
   "source": [
    "df5.shape  #me da la forma del DF cuantas filas x cuantas columnas"
   ]
  },
  {
   "cell_type": "code",
   "execution_count": 39,
   "metadata": {},
   "outputs": [],
   "source": [
    "#Agregar una columna:\n",
    "df5[\"Continente\"] = df5.shape[0] * [\"North America\"]"
   ]
  },
  {
   "cell_type": "code",
   "execution_count": 40,
   "metadata": {},
   "outputs": [
    {
     "output_type": "execute_result",
     "data": {
      "text/plain": [
       "   ID          Address           City             State Country         Name  \\\n",
       "0   1     3666 21st St  San Francisco          CA 94114     USA      Madeira   \n",
       "1   2   735 Dolores St  San Francisco          CA 94119     USA  Bready Shop   \n",
       "2   3      332 Hill St  San Francisco  California 94114     USA  Super River   \n",
       "3   4     3995 23rd St  San Francisco          CA 94114     USA   Ben's Shop   \n",
       "4   5  1056 Sanchez St  San Francisco        California     USA      Sanchez   \n",
       "5   6  551 Alvarado St  San Francisco          CA 94114     USA   Richvalley   \n",
       "\n",
       "   Employees     Continente  \n",
       "0          8  North America  \n",
       "1         15  North America  \n",
       "2         25  North America  \n",
       "3         10  North America  \n",
       "4         12  North America  \n",
       "5         20  North America  "
      ],
      "text/html": "<div>\n<style scoped>\n    .dataframe tbody tr th:only-of-type {\n        vertical-align: middle;\n    }\n\n    .dataframe tbody tr th {\n        vertical-align: top;\n    }\n\n    .dataframe thead th {\n        text-align: right;\n    }\n</style>\n<table border=\"1\" class=\"dataframe\">\n  <thead>\n    <tr style=\"text-align: right;\">\n      <th></th>\n      <th>ID</th>\n      <th>Address</th>\n      <th>City</th>\n      <th>State</th>\n      <th>Country</th>\n      <th>Name</th>\n      <th>Employees</th>\n      <th>Continente</th>\n    </tr>\n  </thead>\n  <tbody>\n    <tr>\n      <th>0</th>\n      <td>1</td>\n      <td>3666 21st St</td>\n      <td>San Francisco</td>\n      <td>CA 94114</td>\n      <td>USA</td>\n      <td>Madeira</td>\n      <td>8</td>\n      <td>North America</td>\n    </tr>\n    <tr>\n      <th>1</th>\n      <td>2</td>\n      <td>735 Dolores St</td>\n      <td>San Francisco</td>\n      <td>CA 94119</td>\n      <td>USA</td>\n      <td>Bready Shop</td>\n      <td>15</td>\n      <td>North America</td>\n    </tr>\n    <tr>\n      <th>2</th>\n      <td>3</td>\n      <td>332 Hill St</td>\n      <td>San Francisco</td>\n      <td>California 94114</td>\n      <td>USA</td>\n      <td>Super River</td>\n      <td>25</td>\n      <td>North America</td>\n    </tr>\n    <tr>\n      <th>3</th>\n      <td>4</td>\n      <td>3995 23rd St</td>\n      <td>San Francisco</td>\n      <td>CA 94114</td>\n      <td>USA</td>\n      <td>Ben's Shop</td>\n      <td>10</td>\n      <td>North America</td>\n    </tr>\n    <tr>\n      <th>4</th>\n      <td>5</td>\n      <td>1056 Sanchez St</td>\n      <td>San Francisco</td>\n      <td>California</td>\n      <td>USA</td>\n      <td>Sanchez</td>\n      <td>12</td>\n      <td>North America</td>\n    </tr>\n    <tr>\n      <th>5</th>\n      <td>6</td>\n      <td>551 Alvarado St</td>\n      <td>San Francisco</td>\n      <td>CA 94114</td>\n      <td>USA</td>\n      <td>Richvalley</td>\n      <td>20</td>\n      <td>North America</td>\n    </tr>\n  </tbody>\n</table>\n</div>"
     },
     "metadata": {},
     "execution_count": 40
    }
   ],
   "source": [
    "df5"
   ]
  },
  {
   "cell_type": "code",
   "execution_count": 53,
   "metadata": {},
   "outputs": [],
   "source": [
    "#Actualizar la misma columna\n",
    "df5 = df5.drop(\"Continent\",1)\n",
    "df5[\"Continente\"] = df5[\"Country\"] + \", \" + \"North America\""
   ]
  },
  {
   "cell_type": "code",
   "execution_count": 54,
   "metadata": {},
   "outputs": [
    {
     "output_type": "execute_result",
     "data": {
      "text/plain": [
       "   ID          Address           City             State Country         Name  \\\n",
       "0   1     3666 21st St  San Francisco          CA 94114     USA      Madeira   \n",
       "1   2   735 Dolores St  San Francisco          CA 94119     USA  Bready Shop   \n",
       "2   3      332 Hill St  San Francisco  California 94114     USA  Super River   \n",
       "3   4     3995 23rd St  San Francisco          CA 94114     USA   Ben's Shop   \n",
       "4   5  1056 Sanchez St  San Francisco        California     USA      Sanchez   \n",
       "5   6  551 Alvarado St  San Francisco          CA 94114     USA   Richvalley   \n",
       "\n",
       "   Employees          Continente  \n",
       "0          8  USA, North America  \n",
       "1         15  USA, North America  \n",
       "2         25  USA, North America  \n",
       "3         10  USA, North America  \n",
       "4         12  USA, North America  \n",
       "5         20  USA, North America  "
      ],
      "text/html": "<div>\n<style scoped>\n    .dataframe tbody tr th:only-of-type {\n        vertical-align: middle;\n    }\n\n    .dataframe tbody tr th {\n        vertical-align: top;\n    }\n\n    .dataframe thead th {\n        text-align: right;\n    }\n</style>\n<table border=\"1\" class=\"dataframe\">\n  <thead>\n    <tr style=\"text-align: right;\">\n      <th></th>\n      <th>ID</th>\n      <th>Address</th>\n      <th>City</th>\n      <th>State</th>\n      <th>Country</th>\n      <th>Name</th>\n      <th>Employees</th>\n      <th>Continente</th>\n    </tr>\n  </thead>\n  <tbody>\n    <tr>\n      <th>0</th>\n      <td>1</td>\n      <td>3666 21st St</td>\n      <td>San Francisco</td>\n      <td>CA 94114</td>\n      <td>USA</td>\n      <td>Madeira</td>\n      <td>8</td>\n      <td>USA, North America</td>\n    </tr>\n    <tr>\n      <th>1</th>\n      <td>2</td>\n      <td>735 Dolores St</td>\n      <td>San Francisco</td>\n      <td>CA 94119</td>\n      <td>USA</td>\n      <td>Bready Shop</td>\n      <td>15</td>\n      <td>USA, North America</td>\n    </tr>\n    <tr>\n      <th>2</th>\n      <td>3</td>\n      <td>332 Hill St</td>\n      <td>San Francisco</td>\n      <td>California 94114</td>\n      <td>USA</td>\n      <td>Super River</td>\n      <td>25</td>\n      <td>USA, North America</td>\n    </tr>\n    <tr>\n      <th>3</th>\n      <td>4</td>\n      <td>3995 23rd St</td>\n      <td>San Francisco</td>\n      <td>CA 94114</td>\n      <td>USA</td>\n      <td>Ben's Shop</td>\n      <td>10</td>\n      <td>USA, North America</td>\n    </tr>\n    <tr>\n      <th>4</th>\n      <td>5</td>\n      <td>1056 Sanchez St</td>\n      <td>San Francisco</td>\n      <td>California</td>\n      <td>USA</td>\n      <td>Sanchez</td>\n      <td>12</td>\n      <td>USA, North America</td>\n    </tr>\n    <tr>\n      <th>5</th>\n      <td>6</td>\n      <td>551 Alvarado St</td>\n      <td>San Francisco</td>\n      <td>CA 94114</td>\n      <td>USA</td>\n      <td>Richvalley</td>\n      <td>20</td>\n      <td>USA, North America</td>\n    </tr>\n  </tbody>\n</table>\n</div>"
     },
     "metadata": {},
     "execution_count": 54
    }
   ],
   "source": [
    "df5"
   ]
  },
  {
   "cell_type": "code",
   "execution_count": 56,
   "metadata": {},
   "outputs": [
    {
     "output_type": "error",
     "ename": "SyntaxError",
     "evalue": "EOF while scanning triple-quoted string literal (<ipython-input-56-8385730c01f8>, line 5)",
     "traceback": [
      "\u001b[1;36m  File \u001b[1;32m\"<ipython-input-56-8385730c01f8>\"\u001b[1;36m, line \u001b[1;32m5\u001b[0m\n\u001b[1;33m    \u001b[0m\n\u001b[1;37m    ^\u001b[0m\n\u001b[1;31mSyntaxError\u001b[0m\u001b[1;31m:\u001b[0m EOF while scanning triple-quoted string literal\n"
     ]
    }
   ],
   "source": [
    "   ''' Para agregar una fila:\n",
    "   1. Hay que transponer la tabla\n",
    "   2. Ahora agregas una columnas (porque ahora filas son columnas)\n",
    "   3. Vuelves a transponer la tabla\n",
    " "
   ]
  },
  {
   "cell_type": "code",
   "execution_count": 57,
   "metadata": {},
   "outputs": [
    {
     "output_type": "execute_result",
     "data": {
      "text/plain": [
       "   ID          Address           City             State Country         Name  \\\n",
       "0   1     3666 21st St  San Francisco          CA 94114     USA      Madeira   \n",
       "1   2   735 Dolores St  San Francisco          CA 94119     USA  Bready Shop   \n",
       "2   3      332 Hill St  San Francisco  California 94114     USA  Super River   \n",
       "3   4     3995 23rd St  San Francisco          CA 94114     USA   Ben's Shop   \n",
       "4   5  1056 Sanchez St  San Francisco        California     USA      Sanchez   \n",
       "5   6  551 Alvarado St  San Francisco          CA 94114     USA   Richvalley   \n",
       "\n",
       "   Employees          Continente  \n",
       "0          8  USA, North America  \n",
       "1         15  USA, North America  \n",
       "2         25  USA, North America  \n",
       "3         10  USA, North America  \n",
       "4         12  USA, North America  \n",
       "5         20  USA, North America  "
      ],
      "text/html": "<div>\n<style scoped>\n    .dataframe tbody tr th:only-of-type {\n        vertical-align: middle;\n    }\n\n    .dataframe tbody tr th {\n        vertical-align: top;\n    }\n\n    .dataframe thead th {\n        text-align: right;\n    }\n</style>\n<table border=\"1\" class=\"dataframe\">\n  <thead>\n    <tr style=\"text-align: right;\">\n      <th></th>\n      <th>ID</th>\n      <th>Address</th>\n      <th>City</th>\n      <th>State</th>\n      <th>Country</th>\n      <th>Name</th>\n      <th>Employees</th>\n      <th>Continente</th>\n    </tr>\n  </thead>\n  <tbody>\n    <tr>\n      <th>0</th>\n      <td>1</td>\n      <td>3666 21st St</td>\n      <td>San Francisco</td>\n      <td>CA 94114</td>\n      <td>USA</td>\n      <td>Madeira</td>\n      <td>8</td>\n      <td>USA, North America</td>\n    </tr>\n    <tr>\n      <th>1</th>\n      <td>2</td>\n      <td>735 Dolores St</td>\n      <td>San Francisco</td>\n      <td>CA 94119</td>\n      <td>USA</td>\n      <td>Bready Shop</td>\n      <td>15</td>\n      <td>USA, North America</td>\n    </tr>\n    <tr>\n      <th>2</th>\n      <td>3</td>\n      <td>332 Hill St</td>\n      <td>San Francisco</td>\n      <td>California 94114</td>\n      <td>USA</td>\n      <td>Super River</td>\n      <td>25</td>\n      <td>USA, North America</td>\n    </tr>\n    <tr>\n      <th>3</th>\n      <td>4</td>\n      <td>3995 23rd St</td>\n      <td>San Francisco</td>\n      <td>CA 94114</td>\n      <td>USA</td>\n      <td>Ben's Shop</td>\n      <td>10</td>\n      <td>USA, North America</td>\n    </tr>\n    <tr>\n      <th>4</th>\n      <td>5</td>\n      <td>1056 Sanchez St</td>\n      <td>San Francisco</td>\n      <td>California</td>\n      <td>USA</td>\n      <td>Sanchez</td>\n      <td>12</td>\n      <td>USA, North America</td>\n    </tr>\n    <tr>\n      <th>5</th>\n      <td>6</td>\n      <td>551 Alvarado St</td>\n      <td>San Francisco</td>\n      <td>CA 94114</td>\n      <td>USA</td>\n      <td>Richvalley</td>\n      <td>20</td>\n      <td>USA, North America</td>\n    </tr>\n  </tbody>\n</table>\n</div>"
     },
     "metadata": {},
     "execution_count": 57
    }
   ],
   "source": [
    "df5"
   ]
  },
  {
   "cell_type": "code",
   "execution_count": 58,
   "metadata": {},
   "outputs": [
    {
     "output_type": "execute_result",
     "data": {
      "text/plain": [
       "                             0                   1                   2  \\\n",
       "ID                           1                   2                   3   \n",
       "Address           3666 21st St      735 Dolores St         332 Hill St   \n",
       "City             San Francisco       San Francisco       San Francisco   \n",
       "State                 CA 94114            CA 94119    California 94114   \n",
       "Country                    USA                 USA                 USA   \n",
       "Name                   Madeira         Bready Shop         Super River   \n",
       "Employees                    8                  15                  25   \n",
       "Continente  USA, North America  USA, North America  USA, North America   \n",
       "\n",
       "                             3                   4                   5  \n",
       "ID                           4                   5                   6  \n",
       "Address           3995 23rd St     1056 Sanchez St     551 Alvarado St  \n",
       "City             San Francisco       San Francisco       San Francisco  \n",
       "State                 CA 94114          California            CA 94114  \n",
       "Country                    USA                 USA                 USA  \n",
       "Name                Ben's Shop             Sanchez          Richvalley  \n",
       "Employees                   10                  12                  20  \n",
       "Continente  USA, North America  USA, North America  USA, North America  "
      ],
      "text/html": "<div>\n<style scoped>\n    .dataframe tbody tr th:only-of-type {\n        vertical-align: middle;\n    }\n\n    .dataframe tbody tr th {\n        vertical-align: top;\n    }\n\n    .dataframe thead th {\n        text-align: right;\n    }\n</style>\n<table border=\"1\" class=\"dataframe\">\n  <thead>\n    <tr style=\"text-align: right;\">\n      <th></th>\n      <th>0</th>\n      <th>1</th>\n      <th>2</th>\n      <th>3</th>\n      <th>4</th>\n      <th>5</th>\n    </tr>\n  </thead>\n  <tbody>\n    <tr>\n      <th>ID</th>\n      <td>1</td>\n      <td>2</td>\n      <td>3</td>\n      <td>4</td>\n      <td>5</td>\n      <td>6</td>\n    </tr>\n    <tr>\n      <th>Address</th>\n      <td>3666 21st St</td>\n      <td>735 Dolores St</td>\n      <td>332 Hill St</td>\n      <td>3995 23rd St</td>\n      <td>1056 Sanchez St</td>\n      <td>551 Alvarado St</td>\n    </tr>\n    <tr>\n      <th>City</th>\n      <td>San Francisco</td>\n      <td>San Francisco</td>\n      <td>San Francisco</td>\n      <td>San Francisco</td>\n      <td>San Francisco</td>\n      <td>San Francisco</td>\n    </tr>\n    <tr>\n      <th>State</th>\n      <td>CA 94114</td>\n      <td>CA 94119</td>\n      <td>California 94114</td>\n      <td>CA 94114</td>\n      <td>California</td>\n      <td>CA 94114</td>\n    </tr>\n    <tr>\n      <th>Country</th>\n      <td>USA</td>\n      <td>USA</td>\n      <td>USA</td>\n      <td>USA</td>\n      <td>USA</td>\n      <td>USA</td>\n    </tr>\n    <tr>\n      <th>Name</th>\n      <td>Madeira</td>\n      <td>Bready Shop</td>\n      <td>Super River</td>\n      <td>Ben's Shop</td>\n      <td>Sanchez</td>\n      <td>Richvalley</td>\n    </tr>\n    <tr>\n      <th>Employees</th>\n      <td>8</td>\n      <td>15</td>\n      <td>25</td>\n      <td>10</td>\n      <td>12</td>\n      <td>20</td>\n    </tr>\n    <tr>\n      <th>Continente</th>\n      <td>USA, North America</td>\n      <td>USA, North America</td>\n      <td>USA, North America</td>\n      <td>USA, North America</td>\n      <td>USA, North America</td>\n      <td>USA, North America</td>\n    </tr>\n  </tbody>\n</table>\n</div>"
     },
     "metadata": {},
     "execution_count": 58
    }
   ],
   "source": [
    "#1. Transponer la tabla\n",
    "df5t = df5.T\n",
    "df5t"
   ]
  },
  {
   "cell_type": "code",
   "execution_count": 59,
   "metadata": {},
   "outputs": [],
   "source": [
    "#2. Agrego una nueva \"Columna\"\n",
    "df5t[\"7\"] = [7,\"Direccion\",\"Saltillo\",\"Coahuila\",\"MX\",\"Hola Shop\",300,\"America\"]"
   ]
  },
  {
   "cell_type": "code",
   "execution_count": 60,
   "metadata": {},
   "outputs": [
    {
     "output_type": "execute_result",
     "data": {
      "text/plain": [
       "                             0                   1                   2  \\\n",
       "ID                           1                   2                   3   \n",
       "Address           3666 21st St      735 Dolores St         332 Hill St   \n",
       "City             San Francisco       San Francisco       San Francisco   \n",
       "State                 CA 94114            CA 94119    California 94114   \n",
       "Country                    USA                 USA                 USA   \n",
       "Name                   Madeira         Bready Shop         Super River   \n",
       "Employees                    8                  15                  25   \n",
       "Continente  USA, North America  USA, North America  USA, North America   \n",
       "\n",
       "                             3                   4                   5  \\\n",
       "ID                           4                   5                   6   \n",
       "Address           3995 23rd St     1056 Sanchez St     551 Alvarado St   \n",
       "City             San Francisco       San Francisco       San Francisco   \n",
       "State                 CA 94114          California            CA 94114   \n",
       "Country                    USA                 USA                 USA   \n",
       "Name                Ben's Shop             Sanchez          Richvalley   \n",
       "Employees                   10                  12                  20   \n",
       "Continente  USA, North America  USA, North America  USA, North America   \n",
       "\n",
       "                    7  \n",
       "ID                  7  \n",
       "Address     Direccion  \n",
       "City         Saltillo  \n",
       "State        Coahuila  \n",
       "Country            MX  \n",
       "Name        Hola Shop  \n",
       "Employees         300  \n",
       "Continente    America  "
      ],
      "text/html": "<div>\n<style scoped>\n    .dataframe tbody tr th:only-of-type {\n        vertical-align: middle;\n    }\n\n    .dataframe tbody tr th {\n        vertical-align: top;\n    }\n\n    .dataframe thead th {\n        text-align: right;\n    }\n</style>\n<table border=\"1\" class=\"dataframe\">\n  <thead>\n    <tr style=\"text-align: right;\">\n      <th></th>\n      <th>0</th>\n      <th>1</th>\n      <th>2</th>\n      <th>3</th>\n      <th>4</th>\n      <th>5</th>\n      <th>7</th>\n    </tr>\n  </thead>\n  <tbody>\n    <tr>\n      <th>ID</th>\n      <td>1</td>\n      <td>2</td>\n      <td>3</td>\n      <td>4</td>\n      <td>5</td>\n      <td>6</td>\n      <td>7</td>\n    </tr>\n    <tr>\n      <th>Address</th>\n      <td>3666 21st St</td>\n      <td>735 Dolores St</td>\n      <td>332 Hill St</td>\n      <td>3995 23rd St</td>\n      <td>1056 Sanchez St</td>\n      <td>551 Alvarado St</td>\n      <td>Direccion</td>\n    </tr>\n    <tr>\n      <th>City</th>\n      <td>San Francisco</td>\n      <td>San Francisco</td>\n      <td>San Francisco</td>\n      <td>San Francisco</td>\n      <td>San Francisco</td>\n      <td>San Francisco</td>\n      <td>Saltillo</td>\n    </tr>\n    <tr>\n      <th>State</th>\n      <td>CA 94114</td>\n      <td>CA 94119</td>\n      <td>California 94114</td>\n      <td>CA 94114</td>\n      <td>California</td>\n      <td>CA 94114</td>\n      <td>Coahuila</td>\n    </tr>\n    <tr>\n      <th>Country</th>\n      <td>USA</td>\n      <td>USA</td>\n      <td>USA</td>\n      <td>USA</td>\n      <td>USA</td>\n      <td>USA</td>\n      <td>MX</td>\n    </tr>\n    <tr>\n      <th>Name</th>\n      <td>Madeira</td>\n      <td>Bready Shop</td>\n      <td>Super River</td>\n      <td>Ben's Shop</td>\n      <td>Sanchez</td>\n      <td>Richvalley</td>\n      <td>Hola Shop</td>\n    </tr>\n    <tr>\n      <th>Employees</th>\n      <td>8</td>\n      <td>15</td>\n      <td>25</td>\n      <td>10</td>\n      <td>12</td>\n      <td>20</td>\n      <td>300</td>\n    </tr>\n    <tr>\n      <th>Continente</th>\n      <td>USA, North America</td>\n      <td>USA, North America</td>\n      <td>USA, North America</td>\n      <td>USA, North America</td>\n      <td>USA, North America</td>\n      <td>USA, North America</td>\n      <td>America</td>\n    </tr>\n  </tbody>\n</table>\n</div>"
     },
     "metadata": {},
     "execution_count": 60
    }
   ],
   "source": [
    "df5t"
   ]
  },
  {
   "cell_type": "code",
   "execution_count": 62,
   "metadata": {},
   "outputs": [
    {
     "output_type": "execute_result",
     "data": {
      "text/plain": [
       "  ID          Address           City             State Country         Name  \\\n",
       "0  1     3666 21st St  San Francisco          CA 94114     USA      Madeira   \n",
       "1  2   735 Dolores St  San Francisco          CA 94119     USA  Bready Shop   \n",
       "2  3      332 Hill St  San Francisco  California 94114     USA  Super River   \n",
       "3  4     3995 23rd St  San Francisco          CA 94114     USA   Ben's Shop   \n",
       "4  5  1056 Sanchez St  San Francisco        California     USA      Sanchez   \n",
       "5  6  551 Alvarado St  San Francisco          CA 94114     USA   Richvalley   \n",
       "7  7        Direccion       Saltillo          Coahuila      MX    Hola Shop   \n",
       "\n",
       "  Employees          Continente  \n",
       "0         8  USA, North America  \n",
       "1        15  USA, North America  \n",
       "2        25  USA, North America  \n",
       "3        10  USA, North America  \n",
       "4        12  USA, North America  \n",
       "5        20  USA, North America  \n",
       "7       300             America  "
      ],
      "text/html": "<div>\n<style scoped>\n    .dataframe tbody tr th:only-of-type {\n        vertical-align: middle;\n    }\n\n    .dataframe tbody tr th {\n        vertical-align: top;\n    }\n\n    .dataframe thead th {\n        text-align: right;\n    }\n</style>\n<table border=\"1\" class=\"dataframe\">\n  <thead>\n    <tr style=\"text-align: right;\">\n      <th></th>\n      <th>ID</th>\n      <th>Address</th>\n      <th>City</th>\n      <th>State</th>\n      <th>Country</th>\n      <th>Name</th>\n      <th>Employees</th>\n      <th>Continente</th>\n    </tr>\n  </thead>\n  <tbody>\n    <tr>\n      <th>0</th>\n      <td>1</td>\n      <td>3666 21st St</td>\n      <td>San Francisco</td>\n      <td>CA 94114</td>\n      <td>USA</td>\n      <td>Madeira</td>\n      <td>8</td>\n      <td>USA, North America</td>\n    </tr>\n    <tr>\n      <th>1</th>\n      <td>2</td>\n      <td>735 Dolores St</td>\n      <td>San Francisco</td>\n      <td>CA 94119</td>\n      <td>USA</td>\n      <td>Bready Shop</td>\n      <td>15</td>\n      <td>USA, North America</td>\n    </tr>\n    <tr>\n      <th>2</th>\n      <td>3</td>\n      <td>332 Hill St</td>\n      <td>San Francisco</td>\n      <td>California 94114</td>\n      <td>USA</td>\n      <td>Super River</td>\n      <td>25</td>\n      <td>USA, North America</td>\n    </tr>\n    <tr>\n      <th>3</th>\n      <td>4</td>\n      <td>3995 23rd St</td>\n      <td>San Francisco</td>\n      <td>CA 94114</td>\n      <td>USA</td>\n      <td>Ben's Shop</td>\n      <td>10</td>\n      <td>USA, North America</td>\n    </tr>\n    <tr>\n      <th>4</th>\n      <td>5</td>\n      <td>1056 Sanchez St</td>\n      <td>San Francisco</td>\n      <td>California</td>\n      <td>USA</td>\n      <td>Sanchez</td>\n      <td>12</td>\n      <td>USA, North America</td>\n    </tr>\n    <tr>\n      <th>5</th>\n      <td>6</td>\n      <td>551 Alvarado St</td>\n      <td>San Francisco</td>\n      <td>CA 94114</td>\n      <td>USA</td>\n      <td>Richvalley</td>\n      <td>20</td>\n      <td>USA, North America</td>\n    </tr>\n    <tr>\n      <th>7</th>\n      <td>7</td>\n      <td>Direccion</td>\n      <td>Saltillo</td>\n      <td>Coahuila</td>\n      <td>MX</td>\n      <td>Hola Shop</td>\n      <td>300</td>\n      <td>America</td>\n    </tr>\n  </tbody>\n</table>\n</div>"
     },
     "metadata": {},
     "execution_count": 62
    }
   ],
   "source": [
    "#3. Vuelvo a transponer\n",
    "df5 = df5t.T\n",
    "df5"
   ]
  },
  {
   "cell_type": "code",
   "execution_count": null,
   "metadata": {},
   "outputs": [],
   "source": []
  },
  {
   "cell_type": "code",
   "execution_count": null,
   "metadata": {},
   "outputs": [],
   "source": []
  }
 ]
}
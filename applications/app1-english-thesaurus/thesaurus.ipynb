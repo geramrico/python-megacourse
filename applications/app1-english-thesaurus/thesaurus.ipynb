{
 "metadata": {
  "language_info": {
   "codemirror_mode": {
    "name": "ipython",
    "version": 3
   },
   "file_extension": ".py",
   "mimetype": "text/x-python",
   "name": "python",
   "nbconvert_exporter": "python",
   "pygments_lexer": "ipython3",
   "version": "3.9.0-final"
  },
  "orig_nbformat": 2,
  "kernelspec": {
   "name": "python3",
   "display_name": "Python 3"
  }
 },
 "nbformat": 4,
 "nbformat_minor": 2,
 "cells": [
  {
   "cell_type": "code",
   "execution_count": null,
   "metadata": {},
   "outputs": [],
   "source": [
    "import json\n",
    "from difflib import get_close_matches\n",
    "\n",
    "data = json.load(open(\"data.json\"))"
   ]
  },
  {
   "cell_type": "code",
   "execution_count": null,
   "metadata": {},
   "outputs": [],
   "source": [
    "#Traductor --> buscar palabra en el diccionario\n",
    "\n",
    "def translate(word):\n",
    "    word = word.lower()  #Convierte a minuscula para que no haya bronca\n",
    "\n",
    "    if word in data:\n",
    "        return data[word]\n",
    "\n",
    "    elif len(get_close_matches(word,data.keys())) > 0:      #Checamos que si a la primera no estaba la palabra, busque una palabra similiar/parecida\n",
    "        answer = input(\"Did you mean %s instead? (y/n)\" % get_close_matches(word,data.keys())[0]).lower()     #Pide al usuario un input\n",
    "\n",
    "        if answer == \"y\":    #Si dice que si, regresa la primera palabra del match\n",
    "            return data[get_close_matches(word,data.keys())[0]]\n",
    "        elif answer == \"n\":\n",
    "            return \"The word doesnt exist\"\n",
    "        else:\n",
    "            return \"We didnt understand the entry\"\n",
    "\n",
    "\n",
    "    else:\n",
    "        return \"The word doesnt exist please check it\"\n",
    "\n",
    "w = input(\"Enter word: \")\n",
    "\n",
    "output = translate(w)\n",
    "\n",
    "if type(output) == list:    #Para que imprima los resultados si una palabra tiene mas de una definicion\n",
    "    for item in output:\n",
    "        print(item)\n",
    "else: \n",
    "    print(output)"
   ]
  },
  {
   "cell_type": "code",
   "execution_count": null,
   "metadata": {},
   "outputs": [],
   "source": [
    " # <=====Busca palabras con un cutoff (tasa de similaridad) de 0.60, por default obtiene 3 (n=3)\n",
    " \n",
    " get_close_matches(\"rain\",data.keys())  \n",
    "\n",
    "#Output: ['rain', 'train', 'rainy']=====>\n",
    "\n",
    "\n",
    "#<======Index 0 para buscar la primera y n=5 para obtener 5 matches\n",
    "\n",
    "get_close_matches(\"rain\",data.keys(), n=5)[0]\n",
    "\n",
    "#Output: rain =======>"
   ]
  }
 ]
}